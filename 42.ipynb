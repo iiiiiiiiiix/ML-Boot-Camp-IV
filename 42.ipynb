{
 "cells": [
  {
   "cell_type": "code",
   "execution_count": 4,
   "metadata": {
    "collapsed": true
   },
   "outputs": [],
   "source": [
    "import numpy as np\n",
    "import pandas as pd\n",
    "\n",
    "from sklearn.model_selection import cross_val_score\n",
    "from sklearn.model_selection import StratifiedKFold\n",
    "\n",
    "from sklearn.ensemble import RandomForestClassifier\n",
    "\n",
    "X = pd.read_csv('C:/Users/admin/Dropbox/docs/Data/ML Cup 4/x_train.csv', sep=';', header=None)\n",
    "test = pd.read_csv('C:/Users/admin/Dropbox/docs/Data/ML Cup 4/x_test.csv', sep=';', header=None)\n",
    "y = pd.read_csv('C:/Users/admin/Dropbox/docs/Data/ML Cup 4/y_train.csv', sep=';', header=None)\n",
    "y = np.ravel(y)\n",
    "\n",
    "X1 = X.as_matrix()"
   ]
  },
  {
   "cell_type": "code",
   "execution_count": 10,
   "metadata": {
    "collapsed": false
   },
   "outputs": [],
   "source": [
    "from sklearn.ensemble import RandomForestClassifier\n",
    "from mlxtend.feature_selection import SequentialFeatureSelector as SFS\n",
    "\n",
    "clf = RandomForestClassifier(random_state=16)\n",
    "cv = StratifiedKFold(n_splits=7, random_state=16, shuffle=True)\n",
    "\n",
    "sfs1 = SFS(clf, \n",
    "           k_features=46, \n",
    "           forward=True, \n",
    "           verbose=2,\n",
    "           scoring='accuracy',\n",
    "           cv=cv)  \n",
    "\n",
    "start_time = time.time()\n",
    "\n",
    "sfs1 = sfs1.fit(X1, y)\n",
    "\n",
    "minutes = (time.time() - start_time) / 60\n",
    "print(\"%.2f minutes\" % minutes)\n"
   ]
  },
  {
   "cell_type": "code",
   "execution_count": 11,
   "metadata": {
    "collapsed": false
   },
   "outputs": [],
   "source": [
    "sfs1.subsets_"
   ]
  },
  {
   "cell_type": "code",
   "execution_count": 12,
   "metadata": {
    "collapsed": false
   },
   "outputs": [],
   "source": [
    "# 8 \n",
    "X1 = X.iloc[:, [96, 131, 200, 138, 11, 76, 182, 156]]\n",
    "test1 = test.iloc[:, [96, 131, 200, 138, 11, 76, 182, 156]]\n",
    "\n",
    "rf = RandomForestClassifier(n_estimators=1000, random_state=16)\n",
    "cv = StratifiedKFold(n_splits=7, random_state=16, shuffle=True)\n",
    "\n",
    "print(\"cv:  \", cross_val_score(rf, X1, y, cv=cv, scoring='accuracy').mean() )\n",
    "# cv: 0.6325"
   ]
  },
  {
   "cell_type": "code",
   "execution_count": 8,
   "metadata": {
    "collapsed": true
   },
   "outputs": [],
   "source": [
    "rf.fit(X1, y)\n",
    "pred = rf.predict(test1)\n",
    "np.savetxt('C:/Users/admin/Downloads/rf.csv', pred, delimiter=',')"
   ]
  }
 ],
 "metadata": {
  "kernelspec": {
   "display_name": "Python 3",
   "language": "python",
   "name": "python3"
  },
  "language_info": {
   "codemirror_mode": {
    "name": "ipython",
    "version": 3
   },
   "file_extension": ".py",
   "mimetype": "text/x-python",
   "name": "python",
   "nbconvert_exporter": "python",
   "pygments_lexer": "ipython3",
   "version": "3.6.0"
  }
 },
 "nbformat": 4,
 "nbformat_minor": 2
}
