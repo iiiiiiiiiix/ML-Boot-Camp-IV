{
 "cells": [
  {
   "cell_type": "code",
   "execution_count": 1,
   "metadata": {
    "collapsed": true
   },
   "outputs": [],
   "source": [
    "import numpy as np\n",
    "import pandas as pd\n",
    "\n",
    "import time\n",
    "\n",
    "from sklearn.model_selection import cross_val_score\n",
    "from sklearn.model_selection import StratifiedKFold\n",
    "from mlxtend.feature_selection import SequentialFeatureSelector as SFS\n",
    "from sklearn.ensemble import RandomForestClassifier\n",
    "\n",
    "X = pd.read_csv('x_train.csv', sep=';', header=None)\n",
    "test = pd.read_csv('x_test.csv', sep=';', header=None)\n",
    "y = pd.read_csv('y_train.csv', sep=';', header=None)\n",
    "y = np.ravel(y)"
   ]
  },
  {
   "cell_type": "code",
   "execution_count": 5,
   "metadata": {},
   "outputs": [
    {
     "name": "stderr",
     "output_type": "stream",
     "text": [
      "\n",
      "[2017-11-04 20:55:01] Features: 1/2 -- score: 0.507015813551\n",
      "[2017-11-04 20:56:53] Features: 2/2 -- score: 0.516766247445"
     ]
    }
   ],
   "source": [
    "X1 = X.as_matrix()\n",
    "\n",
    "clf = RandomForestClassifier(random_state=16)\n",
    "cv = StratifiedKFold(n_splits=7, random_state=16, shuffle=True)\n",
    "\n",
    "sfs1 = SFS(clf,\n",
    "           k_features=46,\n",
    "           forward=True,\n",
    "           verbose=2,\n",
    "           scoring='accuracy',\n",
    "           cv=cv)\n",
    "\n",
    "start_time = time.time()\n",
    "\n",
    "sfs1 = sfs1.fit(X1, y)\n",
    "\n",
    "minutes = (time.time() - start_time) / 60"
   ]
  },
  {
   "cell_type": "code",
   "execution_count": 6,
   "metadata": {},
   "outputs": [
    {
     "name": "stdout",
     "output_type": "stream",
     "text": [
      "4.42 minutes\n",
      "{1: {'feature_idx': (138,), 'cv_scores': array([ 0.51497006,  0.502     ,  0.52409639,  0.51004016,  0.49196787,\n",
      "        0.50905433,  0.49698189]), 'avg_score': 0.50701581355067782}, 2: {'feature_idx': (138, 76), 'cv_scores': array([ 0.50499002,  0.528     ,  0.51004016,  0.53012048,  0.52610442,\n",
      "        0.53722334,  0.48088531]), 'avg_score': 0.51676624744464461}}\n"
     ]
    }
   ],
   "source": [
    "print(\"%.2f minutes\" % minutes)\n",
    "print(sfs1.subsets_)"
   ]
  },
  {
   "cell_type": "code",
   "execution_count": 7,
   "metadata": {},
   "outputs": [
    {
     "name": "stdout",
     "output_type": "stream",
     "text": [
      "cv:   0.635158114251\n"
     ]
    }
   ],
   "source": [
    "X1 = X.iloc[:, [96, 131, 200, 138, 11, 76, 182, 156]]\n",
    "test1 = test.iloc[:, [96, 131, 200, 138, 11, 76, 182, 156]]\n",
    "\n",
    "rf = RandomForestClassifier(n_estimators=1000, random_state=16)\n",
    "cv = StratifiedKFold(n_splits=7, random_state=16, shuffle=True)\n",
    "\n",
    "print(\"local cv:  \", cross_val_score(rf, X1, y, cv=cv, scoring='accuracy').mean())\n",
    "# local cv: 0.6352\n",
    "\n",
    "rf.fit(X1, y)\n",
    "pred = rf.predict(test1)\n",
    "np.savetxt('rf.csv', pred, delimiter=',')"
   ]
  }
 ],
 "metadata": {
  "kernelspec": {
   "display_name": "Python 3",
   "language": "python",
   "name": "python3"
  },
  "language_info": {
   "codemirror_mode": {
    "name": "ipython",
    "version": 3
   },
   "file_extension": ".py",
   "mimetype": "text/x-python",
   "name": "python",
   "nbconvert_exporter": "python",
   "pygments_lexer": "ipython3",
   "version": "3.6.2"
  }
 },
 "nbformat": 4,
 "nbformat_minor": 2
}
